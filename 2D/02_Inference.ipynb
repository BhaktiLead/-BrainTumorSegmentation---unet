{
 "cells": [
  {
   "cell_type": "markdown",
   "metadata": {},
   "source": [
    "# Inference example for trained 2D U-Net model on BraTS.\n",
    "Takes a trained model and performs inference on a few validation examples."
   ]
  },
  {
   "cell_type": "code",
   "execution_count": null,
   "metadata": {},
   "outputs": [],
   "source": [
    "import sys\n",
    "import platform\n",
    "import os\n",
    "\n",
    "print(\"Python version: {}\".format(sys.version))\n",
    "print(\"{}\".format(platform.platform()))"
   ]
  },
  {
   "cell_type": "code",
   "execution_count": null,
   "metadata": {},
   "outputs": [],
   "source": [
    "import settings\n",
    "enable_OMP_settings = True\n",
    "\n",
    "if enable_OMP_settings:\n",
    "    # If hyperthreading is enabled, then use\n",
    "    os.environ[\"KMP_AFFINITY\"] = \"granularity=thread,compact,1,0\"\n",
    "\n",
    "    # If hyperthreading is NOT enabled, then use\n",
    "    #os.environ[\"KMP_AFFINITY\"] = \"granularity=thread,compact\"\n",
    "\n",
    "    os.environ[\"KMP_BLOCKTIME\"] = str(settings.BLOCKTIME)\n",
    "    os.environ[\"OMP_NUM_THREADS\"] = str(settings.NUM_INTRA_THREADS)\n",
    "    os.environ[\"KMP_SETTINGS\"] = \"0\"  # Show the settings at runtime\n",
    "\n",
    "else:\n",
    "    os.environ[\"INTRA_THREADS\"] = str(settings.NUM_INTRA_THREADS)\n",
    "    os.environ[\"INTER_THREADS\"] = str(settings.NUM_INTER_THREADS)"
   ]
  },
  {
   "cell_type": "code",
   "execution_count": null,
   "metadata": {},
   "outputs": [],
   "source": [
    "def test_oneDNN():\n",
    "    import tensorflow as tf\n",
    "\n",
    "    import os\n",
    "\n",
    "    def get_mkl_enabled_flag():\n",
    "\n",
    "        mkl_enabled = False\n",
    "        major_version = int(tf.__version__.split(\".\")[0])\n",
    "        minor_version = int(tf.__version__.split(\".\")[1])\n",
    "        if major_version >= 2:\n",
    "            if minor_version < 5:\n",
    "                from tensorflow.python import _pywrap_util_port\n",
    "            elif minor_version >= 9:\n",
    "\n",
    "                from tensorflow.python.util import _pywrap_util_port\n",
    "                onednn_enabled = int(os.environ.get('TF_ENABLE_ONEDNN_OPTS', '1'))\n",
    "\n",
    "            else:\n",
    "                from tensorflow.python.util import _pywrap_util_port\n",
    "                onednn_enabled = int(os.environ.get('TF_ENABLE_ONEDNN_OPTS', '0'))\n",
    "            mkl_enabled = _pywrap_util_port.IsMklEnabled() or (onednn_enabled == 1)\n",
    "        else:\n",
    "            mkl_enabled = tf.pywrap_tensorflow.IsMklEnabled()\n",
    "        return mkl_enabled\n",
    "\n",
    "    print (\"We are using Tensorflow version\", tf.__version__)\n",
    "    print(\"oneDNN enabled :\", get_mkl_enabled_flag())\n",
    "test_oneDNN()   "
   ]
  },
  {
   "cell_type": "markdown",
   "metadata": {},
   "source": [
    "<font size =\"4\"> Select the model precision to load the model \" fp32 or bf16 \" </font>"
   ]
  },
  {
   "cell_type": "code",
   "execution_count": null,
   "metadata": {},
   "outputs": [],
   "source": [
    "precision = \"bf16\"\n",
    "\n",
    "if precision == \"bf16\":\n",
    "    model_file = \"./output/2d_unet_decathlon_bf16\"\n",
    "elif precision == \"fp32\":\n",
    "    model_file = \"./output/2d_unet_decathlon\"\n",
    "else:\n",
    "    print(\"Selected precision is not supported\")\n",
    "    \n",
    "if os.path.exists(model_file):\n",
    "    saved_model_dir = model_file \n",
    "else:\n",
    "    print(\"Please train the model first: exiting\")"
   ]
  },
  {
   "cell_type": "markdown",
   "metadata": {},
   "source": [
    "<font size =\"4\"> Enable Advanced AMP </font>"
   ]
  },
  {
   "cell_type": "code",
   "execution_count": null,
   "metadata": {},
   "outputs": [],
   "source": [
    "def set_itex_amp(amp_target, device):\n",
    "    # set configure for auto mixed precision.\n",
    "    import intel_extension_for_tensorflow as itex\n",
    "    print(\"intel_extension_for_tensorflow {}\".format(itex.__version__))\n",
    "\n",
    "    auto_mixed_precision_options = itex.AutoMixedPrecisionOptions()\n",
    "    if amp_target==\"BF16\":\n",
    "        auto_mixed_precision_options.data_type = itex.BFLOAT16\n",
    "    else:\n",
    "        auto_mixed_precision_options.data_type = itex.FLOAT16\n",
    "\n",
    "    graph_options = itex.GraphOptions(auto_mixed_precision_options=auto_mixed_precision_options)\n",
    "    # enable auto mixed precision.\n",
    "    graph_options.auto_mixed_precision = itex.ON\n",
    "\n",
    "    config = itex.ConfigProto(graph_options=graph_options)\n",
    "    # set GPU backend.\n",
    "    print(config)\n",
    "    backend = device\n",
    "    itex.set_backend(backend, config)\n",
    "\n",
    "    print(\"Set itex for AMP (auto_mixed_precision, {}_FP32) with backend {}\".format(amp_target, backend))\n",
    "    \n",
    "import settings\n",
    "enable_amp = True\n",
    "\n",
    "#setting BF16 Auto mixed precision   \n",
    "if enable_amp and precision != \"bf16\":\n",
    "    device = \"cpu\"\n",
    "    amp_target = \"BF16\"\n",
    "    set_itex_amp( amp_target, device ) "
   ]
  },
  {
   "cell_type": "code",
   "execution_count": null,
   "metadata": {},
   "outputs": [],
   "source": [
    "# Create output directory for images\n",
    "png_directory = \"inference_examples\"\n",
    "if not os.path.exists(png_directory):\n",
    "    os.makedirs(png_directory)\n",
    "    \n",
    "model_filename = os.path.join(saved_model_dir)"
   ]
  },
  {
   "cell_type": "markdown",
   "metadata": {},
   "source": [
    "#### Define the DICE coefficient and loss function"
   ]
  },
  {
   "cell_type": "markdown",
   "metadata": {},
   "source": [
    "The Sørensen–Dice coefficient is a statistic used for comparing the similarity of two samples. Given two sets, X and Y, it is defined as\n",
    "\n",
    "\\begin{equation}\n",
    "dice = \\frac{2|X\\cap Y|}{|X|+|Y|}\n",
    "\\end{equation}"
   ]
  },
  {
   "cell_type": "code",
   "execution_count": null,
   "metadata": {},
   "outputs": [],
   "source": [
    "import numpy as np\n",
    "\n",
    "def calc_dice(target, prediction, smooth=0.0001):\n",
    "    \"\"\"\n",
    "    Sorensen Dice coefficient\n",
    "    \"\"\"\n",
    "    prediction = np.round(prediction)\n",
    "\n",
    "    numerator = 2.0 * np.sum(target * prediction) + smooth\n",
    "    denominator = np.sum(target) + np.sum(prediction) + smooth\n",
    "    coef = numerator / denominator\n",
    "\n",
    "    return coef\n",
    "\n",
    "def calc_soft_dice(target, prediction, smooth=0.0001):\n",
    "    \"\"\"\n",
    "    Sorensen (Soft) Dice coefficient - Don't round predictions\n",
    "    \"\"\"\n",
    "    numerator = 2.0 * np.sum(target * prediction) + smooth\n",
    "    denominator = np.sum(target) + np.sum(prediction) + smooth\n",
    "    coef = numerator / denominator\n",
    "\n",
    "    return coef"
   ]
  },
  {
   "cell_type": "markdown",
   "metadata": {},
   "source": [
    "## Inference Time!"
   ]
  },
  {
   "cell_type": "markdown",
   "metadata": {},
   "source": [
    "Inferencing in this example can be done in 3 simple steps:\n",
    "1. Load the data\n",
    "1. Load the Keras model \n",
    "1. Perform a `model.predict` on an input image (or set of images)"
   ]
  },
  {
   "cell_type": "markdown",
   "metadata": {},
   "source": [
    "#### Step 1 : Load data"
   ]
  },
  {
   "cell_type": "code",
   "execution_count": null,
   "metadata": {},
   "outputs": [],
   "source": [
    "data_path = \"/data/medical_decathlon/Task01_BrainTumour/\"\n",
    "\n",
    "crop_dim=128  # Original resolution (240)\n",
    "batch_size = 128\n",
    "seed=816\n",
    "train_test_split=0.85"
   ]
  },
  {
   "cell_type": "code",
   "execution_count": null,
   "metadata": {},
   "outputs": [],
   "source": [
    "from dataloader import DatasetGenerator, get_decathlon_filelist\n",
    "\n",
    "trainFiles, validateFiles, testFiles = get_decathlon_filelist(data_path=data_path, seed=seed, split=train_test_split)\n",
    "\n",
    "# TODO: Fill in the parameters for the dataset generator to return the `testing` data\n",
    "ds_test = DatasetGenerator(...)\n"
   ]
  },
  {
   "cell_type": "markdown",
   "metadata": {},
   "source": [
    "#### Step 2 : Load the model"
   ]
  },
  {
   "cell_type": "code",
   "execution_count": null,
   "metadata": {},
   "outputs": [],
   "source": [
    "from model import unet\n",
    "\n",
    "from tensorflow import keras as K\n",
    "model = K.models.load_model(saved_model_dir, compile=False, custom_objects=unet().custom_objects)"
   ]
  },
  {
   "cell_type": "markdown",
   "metadata": {},
   "source": [
    "#### Step 3: Perform prediction on some images. \n",
    "The prediction results will be saved in the output directory for images, which is defined by the `png_directory` variable."
   ]
  },
  {
   "cell_type": "code",
   "execution_count": null,
   "metadata": {},
   "outputs": [],
   "source": [
    "import matplotlib.pyplot as plt\n",
    "%matplotlib inline\n",
    "\n",
    "import time\n",
    "\n",
    "def plot_results(ds):\n",
    "    \n",
    "    plt.figure(figsize=(10,10))\n",
    "\n",
    "    img, msk = next(ds.ds)\n",
    "\n",
    "    idx = np.argmax(np.sum(np.sum(msk[:,:,:,0], axis=1), axis=1)) # find the slice with the largest tumor\n",
    "\n",
    "    plt.subplot(1, 3, 1)\n",
    "    plt.imshow(img[idx, :, :, 0], cmap=\"bone\", origin=\"lower\")\n",
    "    plt.title(\"MRI {}\".format(idx), fontsize=20)\n",
    "\n",
    "    plt.subplot(1, 3, 2)\n",
    "    plt.imshow(msk[idx, :, :], cmap=\"bone\", origin=\"lower\")\n",
    "    plt.title(\"Ground truth\", fontsize=20)\n",
    "\n",
    "    plt.subplot(1, 3, 3)\n",
    "\n",
    "    print(\"Index {}: \".format(idx), end=\"\")\n",
    "    \n",
    "    # Predict using the TensorFlow model\n",
    "    start_time = time.time()\n",
    "    prediction = model.predict(img[[idx]])\n",
    "    print(\"Elapsed time = {:.4f} msecs, \".format(1000.0*(time.time()-start_time)), end=\"\")\n",
    "    \n",
    "    plt.imshow(prediction[0,:,:,0], cmap=\"bone\", origin=\"lower\")\n",
    "    dice_coef = calc_dice(msk[idx], prediction)\n",
    "    print(\"Dice coefficient = {:.4f}, \".format(dice_coef), end=\"\")\n",
    "    plt.title(\"Prediction\\nDice = {:.4f}\".format(dice_coef), fontsize=20)\n"
   ]
  },
  {
   "cell_type": "code",
   "execution_count": null,
   "metadata": {},
   "outputs": [],
   "source": [
    "plot_results(ds_test)"
   ]
  },
  {
   "cell_type": "code",
   "execution_count": null,
   "metadata": {},
   "outputs": [],
   "source": [
    "plot_results(ds_test)"
   ]
  },
  {
   "cell_type": "code",
   "execution_count": null,
   "metadata": {},
   "outputs": [],
   "source": [
    "plot_results(ds_test)"
   ]
  },
  {
   "cell_type": "code",
   "execution_count": null,
   "metadata": {
    "scrolled": true
   },
   "outputs": [],
   "source": [
    "plot_results(ds_test)"
   ]
  },
  {
   "cell_type": "code",
   "execution_count": null,
   "metadata": {},
   "outputs": [],
   "source": [
    "plot_results(ds_test)"
   ]
  },
  {
   "cell_type": "code",
   "execution_count": null,
   "metadata": {
    "scrolled": false
   },
   "outputs": [],
   "source": [
    "plot_results(ds_test)"
   ]
  },
  {
   "cell_type": "code",
   "execution_count": null,
   "metadata": {},
   "outputs": [],
   "source": [
    "plot_results(ds_test)"
   ]
  },
  {
   "cell_type": "markdown",
   "metadata": {},
   "source": [
    "# Can we perform inference even faster? Hmm.."
   ]
  },
  {
   "cell_type": "markdown",
   "metadata": {},
   "source": [
    "Let's find out. Move on the the next tutorial section."
   ]
  },
  {
   "cell_type": "markdown",
   "metadata": {},
   "source": [
    "*Licensed under the Apache License, Version 2.0 (the \"License\"); you may not use this file except in compliance with the License. You may obtain a copy of the License at http://www.apache.org/licenses/LICENSE-2.0 Unless required by applicable law or agreed to in writing, software distributed under the License is distributed on an \"AS IS\" BASIS, WITHOUT WARRANTIES OR CONDITIONS OF ANY KIND, either express or implied. See the License for the specific language governing permissions and limitations under the License. SPDX-License-Identifier: EPL-2.0*"
   ]
  },
  {
   "cell_type": "markdown",
   "metadata": {},
   "source": [
    "*Copyright (c) 2019-2020 Intel Corporation*"
   ]
  },
  {
   "cell_type": "code",
   "execution_count": null,
   "metadata": {},
   "outputs": [],
   "source": []
  }
 ],
 "metadata": {
  "kernelspec": {
   "display_name": "Python 3 (ipykernel)",
   "language": "python",
   "name": "python3"
  },
  "language_info": {
   "codemirror_mode": {
    "name": "ipython",
    "version": 3
   },
   "file_extension": ".py",
   "mimetype": "text/x-python",
   "name": "python",
   "nbconvert_exporter": "python",
   "pygments_lexer": "ipython3",
   "version": "3.10.8"
  }
 },
 "nbformat": 4,
 "nbformat_minor": 2
}
