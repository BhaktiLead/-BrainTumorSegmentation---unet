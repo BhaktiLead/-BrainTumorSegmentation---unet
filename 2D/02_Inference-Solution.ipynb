{
 "cells": [
  {
   "cell_type": "markdown",
   "metadata": {},
   "source": [
    "# Inference example for trained 2D U-Net model on BraTS.\n",
    "Takes a trained model and performs inference on a few validation examples."
   ]
  },
  {
   "cell_type": "code",
   "execution_count": null,
   "metadata": {},
   "outputs": [],
   "source": [
    "import sys\n",
    "import platform\n",
    "import os\n",
    "\n",
    "print(\"Python version: {}\".format(sys.version))\n",
    "print(\"{}\".format(platform.platform()))"
   ]
  },
  {
   "cell_type": "code",
   "execution_count": null,
   "metadata": {},
   "outputs": [],
   "source": [
    "def test_intel_tensorflow():\n",
    "    \"\"\"\n",
    "    Check if Intel version of TensorFlow is installed\n",
    "    \"\"\"\n",
    "    import tensorflow as tf\n",
    "    \n",
    "    print(\"We are using Tensorflow version {}\".format(tf.__version__))\n",
    "           \n",
    "    major_version = int(tf.__version__.split(\".\")[0])\n",
    "    if major_version >= 2:\n",
    "       from tensorflow.python import _pywrap_util_port\n",
    "       print(\"Intel-optimizations (DNNL) enabled:\", _pywrap_util_port.IsMklEnabled())\n",
    "    else:\n",
    "       print(\"Intel-optimizations (DNNL) enabled:\", tf.pywrap_tensorflow.IsMklEnabled()) \n",
    "\n",
    "test_intel_tensorflow()"
   ]
  },
  {
   "cell_type": "code",
   "execution_count": null,
   "metadata": {},
   "outputs": [],
   "source": [
    "saved_model_dir = \"./output/2d_unet_decathlon\""
   ]
  },
  {
   "cell_type": "code",
   "execution_count": null,
   "metadata": {},
   "outputs": [],
   "source": [
    "# Create output directory for images\n",
    "png_directory = \"inference_examples\"\n",
    "if not os.path.exists(png_directory):\n",
    "    os.makedirs(png_directory)\n",
    "    \n",
    "model_filename = os.path.join(saved_model_dir)"
   ]
  },
  {
   "cell_type": "markdown",
   "metadata": {},
   "source": [
    "#### Define the DICE coefficient and loss function"
   ]
  },
  {
   "cell_type": "markdown",
   "metadata": {},
   "source": [
    "The Sørensen–Dice coefficient is a statistic used for comparing the similarity of two samples. Given two sets, X and Y, it is defined as\n",
    "\n",
    "\\begin{equation}\n",
    "dice = \\frac{2|X\\cap Y|}{|X|+|Y|}\n",
    "\\end{equation}"
   ]
  },
  {
   "cell_type": "code",
   "execution_count": null,
   "metadata": {},
   "outputs": [],
   "source": [
    "import numpy as np\n",
    "\n",
    "def calc_dice(target, prediction, smooth=0.0001):\n",
    "    \"\"\"\n",
    "    Sorensen Dice coefficient\n",
    "    \"\"\"\n",
    "    prediction = np.round(prediction)\n",
    "\n",
    "    numerator = 2.0 * np.sum(target * prediction) + smooth\n",
    "    denominator = np.sum(target) + np.sum(prediction) + smooth\n",
    "    coef = numerator / denominator\n",
    "\n",
    "    return coef\n",
    "\n",
    "def calc_soft_dice(target, prediction, smooth=0.0001):\n",
    "    \"\"\"\n",
    "    Sorensen (Soft) Dice coefficient - Don't round predictions\n",
    "    \"\"\"\n",
    "    numerator = 2.0 * np.sum(target * prediction) + smooth\n",
    "    denominator = np.sum(target) + np.sum(prediction) + smooth\n",
    "    coef = numerator / denominator\n",
    "\n",
    "    return coef"
   ]
  },
  {
   "cell_type": "markdown",
   "metadata": {},
   "source": [
    "## Inference Time!"
   ]
  },
  {
   "cell_type": "markdown",
   "metadata": {},
   "source": [
    "Inferencing in this example can be done in 3 simple steps:\n",
    "1. Load the data\n",
    "1. Load the Keras model \n",
    "1. Perform a `model.predict` on an input image (or set of images)"
   ]
  },
  {
   "cell_type": "markdown",
   "metadata": {},
   "source": [
    "#### Step 1 : Load data"
   ]
  },
  {
   "cell_type": "code",
   "execution_count": null,
   "metadata": {},
   "outputs": [],
   "source": [
    "data_path = \"../data/decathlon/Task01_BrainTumour/2D_model/\"\n",
    "saved_model_dir = \"./output/2d_unet_decathlon\"\n",
    "\n",
    "crop_dim=128  # -1 = Original resolution (240)\n",
    "batch_size = 128\n",
    "seed=816  # Change this to see different examples in the test dataset"
   ]
  },
  {
   "cell_type": "code",
   "execution_count": null,
   "metadata": {},
   "outputs": [],
   "source": [
    "from dataloader import DatasetGenerator\n",
    "\n",
    "ds_testing = DatasetGenerator(os.path.join(data_path, \"testing/*.npz\"), \n",
    "                              crop_dim=crop_dim, \n",
    "                              batch_size=batch_size, \n",
    "                              augment=False, \n",
    "                              seed=seed)"
   ]
  },
  {
   "cell_type": "markdown",
   "metadata": {},
   "source": [
    "#### Step 2 : Load the model"
   ]
  },
  {
   "cell_type": "code",
   "execution_count": null,
   "metadata": {},
   "outputs": [],
   "source": [
    "from model import unet\n",
    "\n",
    "from tensorflow import keras as K\n",
    "model = K.models.load_model(saved_model_dir, compile=False, custom_objects=unet().custom_objects)"
   ]
  },
  {
   "cell_type": "markdown",
   "metadata": {},
   "source": [
    "#### Step 3: Perform prediction on some images. \n",
    "The prediction results will be saved in the output directory for images, which is defined by the `png_directory` variable."
   ]
  },
  {
   "cell_type": "code",
   "execution_count": null,
   "metadata": {},
   "outputs": [],
   "source": [
    "import matplotlib.pyplot as plt\n",
    "%matplotlib inline\n",
    "\n",
    "import time\n",
    "\n",
    "def plot_results(ds, idx):\n",
    "    \n",
    "    dt = ds.get_dataset().take(1).as_numpy_iterator()  # Get some examples (use different seed for different samples)\n",
    "\n",
    "    plt.figure(figsize=(10,10))\n",
    "\n",
    "    for img, msk in dt:\n",
    "\n",
    "        plt.subplot(1, 3, 1)\n",
    "        plt.imshow(img[idx, :, :, 0], cmap=\"bone\", origin=\"lower\")\n",
    "        plt.title(\"MRI {}\".format(idx), fontsize=20)\n",
    "\n",
    "        plt.subplot(1, 3, 2)\n",
    "        plt.imshow(msk[idx, :, :], cmap=\"bone\", origin=\"lower\")\n",
    "        plt.title(\"Ground truth\", fontsize=20)\n",
    "\n",
    "        plt.subplot(1, 3, 3)\n",
    "\n",
    "        # Predict using the TensorFlow model\n",
    "        start_time = time.time()\n",
    "        prediction = model.predict(img[[idx]])\n",
    "        print(\"Elapsed time = {:.4f} msecs\".format(1000.0*(time.time()-start_time)))\n",
    "        \n",
    "        plt.imshow(prediction[0,:,:,0], cmap=\"bone\", origin=\"lower\")\n",
    "        plt.title(\"Prediction\\nDice = {:.4f}\".format(calc_dice(msk[idx, :, :], prediction)), fontsize=20)\n",
    "        \n",
    "        plt.savefig(os.path.join(png_directory, \"prediction_tf_{}.png\".format(idx)))"
   ]
  },
  {
   "cell_type": "code",
   "execution_count": null,
   "metadata": {},
   "outputs": [],
   "source": [
    "plot_results(ds_testing, 11)"
   ]
  },
  {
   "cell_type": "code",
   "execution_count": null,
   "metadata": {},
   "outputs": [],
   "source": [
    "plot_results(ds_testing, 17)"
   ]
  },
  {
   "cell_type": "code",
   "execution_count": null,
   "metadata": {},
   "outputs": [],
   "source": [
    "plot_results(ds_testing, 25)"
   ]
  },
  {
   "cell_type": "code",
   "execution_count": null,
   "metadata": {
    "scrolled": true
   },
   "outputs": [],
   "source": [
    "plot_results(ds_testing, 56)"
   ]
  },
  {
   "cell_type": "code",
   "execution_count": null,
   "metadata": {},
   "outputs": [],
   "source": [
    "plot_results(ds_testing, 89)"
   ]
  },
  {
   "cell_type": "code",
   "execution_count": null,
   "metadata": {
    "scrolled": true
   },
   "outputs": [],
   "source": [
    "plot_results(ds_testing, 101)"
   ]
  },
  {
   "cell_type": "code",
   "execution_count": null,
   "metadata": {},
   "outputs": [],
   "source": [
    "plot_results(ds_testing, 119)"
   ]
  },
  {
   "cell_type": "markdown",
   "metadata": {},
   "source": [
    "# Can we perform inference even faster? Hmm.."
   ]
  },
  {
   "cell_type": "markdown",
   "metadata": {},
   "source": [
    "Let's find out. Move on the the next tutorial section."
   ]
  },
  {
   "cell_type": "markdown",
   "metadata": {},
   "source": [
    "*Licensed under the Apache License, Version 2.0 (the \"License\"); you may not use this file except in compliance with the License. You may obtain a copy of the License at http://www.apache.org/licenses/LICENSE-2.0 Unless required by applicable law or agreed to in writing, software distributed under the License is distributed on an \"AS IS\" BASIS, WITHOUT WARRANTIES OR CONDITIONS OF ANY KIND, either express or implied. See the License for the specific language governing permissions and limitations under the License. SPDX-License-Identifier: EPL-2.0*"
   ]
  },
  {
   "cell_type": "markdown",
   "metadata": {},
   "source": [
    "*Copyright (c) 2019-2020 Intel Corporation*"
   ]
  },
  {
   "cell_type": "code",
   "execution_count": null,
   "metadata": {},
   "outputs": [],
   "source": []
  }
 ],
 "metadata": {
  "kernelspec": {
   "display_name": "Python 3",
   "language": "python",
   "name": "python3"
  },
  "language_info": {
   "codemirror_mode": {
    "name": "ipython",
    "version": 3
   },
   "file_extension": ".py",
   "mimetype": "text/x-python",
   "name": "python",
   "nbconvert_exporter": "python",
   "pygments_lexer": "ipython3",
   "version": "3.7.9"
  }
 },
 "nbformat": 4,
 "nbformat_minor": 2
}
